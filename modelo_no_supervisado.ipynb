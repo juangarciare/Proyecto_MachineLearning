{
 "cells": [
  {
   "attachments": {},
   "cell_type": "markdown",
   "metadata": {},
   "source": [
    "# ------------MODELO NO SUPERVISADO------------"
   ]
  },
  {
   "attachments": {},
   "cell_type": "markdown",
   "metadata": {},
   "source": [
    "## Importo las librerias a utilizar para el modelo"
   ]
  },
  {
   "cell_type": "code",
   "execution_count": 1,
   "metadata": {},
   "outputs": [],
   "source": [
    "import pandas as pd\n",
    "from sklearn.cluster import KMeansimporto \n",
    "from sklearn.metrics import silhouette_score"
   ]
  },
  {
   "attachments": {},
   "cell_type": "markdown",
   "metadata": {},
   "source": [
    "## Cargo el data set de testeo"
   ]
  },
  {
   "cell_type": "code",
   "execution_count": 2,
   "metadata": {},
   "outputs": [],
   "source": [
    "df_inm_test=pd.read_parquet('test.parquet')"
   ]
  },
  {
   "attachments": {},
   "cell_type": "markdown",
   "metadata": {},
   "source": [
    "## Visualizo las primeras 5 filas del Data Frame para analizar la información"
   ]
  },
  {
   "cell_type": "code",
   "execution_count": 3,
   "metadata": {},
   "outputs": [
    {
     "data": {
      "text/html": [
       "<div>\n",
       "<style scoped>\n",
       "    .dataframe tbody tr th:only-of-type {\n",
       "        vertical-align: middle;\n",
       "    }\n",
       "\n",
       "    .dataframe tbody tr th {\n",
       "        vertical-align: top;\n",
       "    }\n",
       "\n",
       "    .dataframe thead th {\n",
       "        text-align: right;\n",
       "    }\n",
       "</style>\n",
       "<table border=\"1\" class=\"dataframe\">\n",
       "  <thead>\n",
       "    <tr style=\"text-align: right;\">\n",
       "      <th></th>\n",
       "      <th>id</th>\n",
       "      <th>url</th>\n",
       "      <th>region</th>\n",
       "      <th>region_url</th>\n",
       "      <th>type</th>\n",
       "      <th>sqfeet</th>\n",
       "      <th>beds</th>\n",
       "      <th>baths</th>\n",
       "      <th>cats_allowed</th>\n",
       "      <th>dogs_allowed</th>\n",
       "      <th>...</th>\n",
       "      <th>wheelchair_access</th>\n",
       "      <th>electric_vehicle_charge</th>\n",
       "      <th>comes_furnished</th>\n",
       "      <th>laundry_options</th>\n",
       "      <th>parking_options</th>\n",
       "      <th>image_url</th>\n",
       "      <th>description</th>\n",
       "      <th>lat</th>\n",
       "      <th>long</th>\n",
       "      <th>state</th>\n",
       "    </tr>\n",
       "  </thead>\n",
       "  <tbody>\n",
       "    <tr>\n",
       "      <th>0</th>\n",
       "      <td>7037609789</td>\n",
       "      <td>https://annarbor.craigslist.org/apa/d/wixom-ho...</td>\n",
       "      <td>ann arbor</td>\n",
       "      <td>https://annarbor.craigslist.org</td>\n",
       "      <td>manufactured</td>\n",
       "      <td>1344</td>\n",
       "      <td>3</td>\n",
       "      <td>2.0</td>\n",
       "      <td>0</td>\n",
       "      <td>0</td>\n",
       "      <td>...</td>\n",
       "      <td>0</td>\n",
       "      <td>0</td>\n",
       "      <td>0</td>\n",
       "      <td>w/d in unit</td>\n",
       "      <td>off-street parking</td>\n",
       "      <td>https://images.craigslist.org/00M0M_iNczP1nzIL...</td>\n",
       "      <td>OPEN HOUSE TODAY! APPLY THIS WEEK, PUT A HOLDI...</td>\n",
       "      <td>42.5333</td>\n",
       "      <td>-83.5763</td>\n",
       "      <td>mi</td>\n",
       "    </tr>\n",
       "    <tr>\n",
       "      <th>1</th>\n",
       "      <td>7032406876</td>\n",
       "      <td>https://vermont.craigslist.org/apa/d/randolph-...</td>\n",
       "      <td>vermont</td>\n",
       "      <td>https://vermont.craigslist.org</td>\n",
       "      <td>apartment</td>\n",
       "      <td>1050</td>\n",
       "      <td>2</td>\n",
       "      <td>1.0</td>\n",
       "      <td>0</td>\n",
       "      <td>0</td>\n",
       "      <td>...</td>\n",
       "      <td>0</td>\n",
       "      <td>0</td>\n",
       "      <td>0</td>\n",
       "      <td>w/d hookups</td>\n",
       "      <td>off-street parking</td>\n",
       "      <td>https://images.craigslist.org/00L0L_ecirmYBIzL...</td>\n",
       "      <td>Think of it, you'll be first to get your mail....</td>\n",
       "      <td>43.9393</td>\n",
       "      <td>-72.5538</td>\n",
       "      <td>vt</td>\n",
       "    </tr>\n",
       "    <tr>\n",
       "      <th>2</th>\n",
       "      <td>7037022682</td>\n",
       "      <td>https://annarbor.craigslist.org/apa/d/ann-arbo...</td>\n",
       "      <td>ann arbor</td>\n",
       "      <td>https://annarbor.craigslist.org</td>\n",
       "      <td>apartment</td>\n",
       "      <td>1150</td>\n",
       "      <td>2</td>\n",
       "      <td>2.0</td>\n",
       "      <td>1</td>\n",
       "      <td>1</td>\n",
       "      <td>...</td>\n",
       "      <td>1</td>\n",
       "      <td>0</td>\n",
       "      <td>0</td>\n",
       "      <td>w/d in unit</td>\n",
       "      <td>carport</td>\n",
       "      <td>https://images.craigslist.org/00e0e_dPln2xjo9g...</td>\n",
       "      <td>One of Ann Arbor's most luxurious apartment co...</td>\n",
       "      <td>42.2492</td>\n",
       "      <td>-83.7712</td>\n",
       "      <td>mi</td>\n",
       "    </tr>\n",
       "    <tr>\n",
       "      <th>3</th>\n",
       "      <td>7048681802</td>\n",
       "      <td>https://fortcollins.craigslist.org/apa/d/fort-...</td>\n",
       "      <td>fort collins / north CO</td>\n",
       "      <td>https://fortcollins.craigslist.org</td>\n",
       "      <td>apartment</td>\n",
       "      <td>1280</td>\n",
       "      <td>2</td>\n",
       "      <td>2.5</td>\n",
       "      <td>1</td>\n",
       "      <td>1</td>\n",
       "      <td>...</td>\n",
       "      <td>0</td>\n",
       "      <td>0</td>\n",
       "      <td>0</td>\n",
       "      <td>w/d in unit</td>\n",
       "      <td>attached garage</td>\n",
       "      <td>https://images.craigslist.org/00L0L_jlektT5cSd...</td>\n",
       "      <td>Specials! Move in before January 16th, 2020 an...</td>\n",
       "      <td>40.5501</td>\n",
       "      <td>-105.0350</td>\n",
       "      <td>co</td>\n",
       "    </tr>\n",
       "    <tr>\n",
       "      <th>4</th>\n",
       "      <td>7043597870</td>\n",
       "      <td>https://charlottesville.craigslist.org/apa/d/c...</td>\n",
       "      <td>charlottesville</td>\n",
       "      <td>https://charlottesville.craigslist.org</td>\n",
       "      <td>apartment</td>\n",
       "      <td>783</td>\n",
       "      <td>2</td>\n",
       "      <td>1.0</td>\n",
       "      <td>1</td>\n",
       "      <td>1</td>\n",
       "      <td>...</td>\n",
       "      <td>0</td>\n",
       "      <td>0</td>\n",
       "      <td>0</td>\n",
       "      <td>laundry on site</td>\n",
       "      <td>None</td>\n",
       "      <td>https://images.craigslist.org/00D0D_cXa4KbZ6ox...</td>\n",
       "      <td>Barracks West Apartments &amp; Townhomes in Charlo...</td>\n",
       "      <td>38.0936</td>\n",
       "      <td>-78.5611</td>\n",
       "      <td>va</td>\n",
       "    </tr>\n",
       "  </tbody>\n",
       "</table>\n",
       "<p>5 rows × 21 columns</p>\n",
       "</div>"
      ],
      "text/plain": [
       "           id                                                url  \\\n",
       "0  7037609789  https://annarbor.craigslist.org/apa/d/wixom-ho...   \n",
       "1  7032406876  https://vermont.craigslist.org/apa/d/randolph-...   \n",
       "2  7037022682  https://annarbor.craigslist.org/apa/d/ann-arbo...   \n",
       "3  7048681802  https://fortcollins.craigslist.org/apa/d/fort-...   \n",
       "4  7043597870  https://charlottesville.craigslist.org/apa/d/c...   \n",
       "\n",
       "                    region                              region_url  \\\n",
       "0                ann arbor         https://annarbor.craigslist.org   \n",
       "1                  vermont          https://vermont.craigslist.org   \n",
       "2                ann arbor         https://annarbor.craigslist.org   \n",
       "3  fort collins / north CO      https://fortcollins.craigslist.org   \n",
       "4          charlottesville  https://charlottesville.craigslist.org   \n",
       "\n",
       "           type  sqfeet  beds  baths  cats_allowed  dogs_allowed  ...  \\\n",
       "0  manufactured    1344     3    2.0             0             0  ...   \n",
       "1     apartment    1050     2    1.0             0             0  ...   \n",
       "2     apartment    1150     2    2.0             1             1  ...   \n",
       "3     apartment    1280     2    2.5             1             1  ...   \n",
       "4     apartment     783     2    1.0             1             1  ...   \n",
       "\n",
       "   wheelchair_access  electric_vehicle_charge  comes_furnished  \\\n",
       "0                  0                        0                0   \n",
       "1                  0                        0                0   \n",
       "2                  1                        0                0   \n",
       "3                  0                        0                0   \n",
       "4                  0                        0                0   \n",
       "\n",
       "   laundry_options     parking_options  \\\n",
       "0      w/d in unit  off-street parking   \n",
       "1      w/d hookups  off-street parking   \n",
       "2      w/d in unit             carport   \n",
       "3      w/d in unit     attached garage   \n",
       "4  laundry on site                None   \n",
       "\n",
       "                                           image_url  \\\n",
       "0  https://images.craigslist.org/00M0M_iNczP1nzIL...   \n",
       "1  https://images.craigslist.org/00L0L_ecirmYBIzL...   \n",
       "2  https://images.craigslist.org/00e0e_dPln2xjo9g...   \n",
       "3  https://images.craigslist.org/00L0L_jlektT5cSd...   \n",
       "4  https://images.craigslist.org/00D0D_cXa4KbZ6ox...   \n",
       "\n",
       "                                         description      lat      long  state  \n",
       "0  OPEN HOUSE TODAY! APPLY THIS WEEK, PUT A HOLDI...  42.5333  -83.5763     mi  \n",
       "1  Think of it, you'll be first to get your mail....  43.9393  -72.5538     vt  \n",
       "2  One of Ann Arbor's most luxurious apartment co...  42.2492  -83.7712     mi  \n",
       "3  Specials! Move in before January 16th, 2020 an...  40.5501 -105.0350     co  \n",
       "4  Barracks West Apartments & Townhomes in Charlo...  38.0936  -78.5611     va  \n",
       "\n",
       "[5 rows x 21 columns]"
      ]
     },
     "execution_count": 3,
     "metadata": {},
     "output_type": "execute_result"
    }
   ],
   "source": [
    "df_inm_test.head(5) "
   ]
  },
  {
   "attachments": {},
   "cell_type": "markdown",
   "metadata": {},
   "source": [
    "## Despues de ver los datos y analizarlos quito del data frame las columnas que no voy a utilizar"
   ]
  },
  {
   "cell_type": "code",
   "execution_count": 4,
   "metadata": {},
   "outputs": [],
   "source": [
    "df_inm_test.drop([\"id\", \"url\", \"region_url\", \n",
    " \"image_url\", \"description\", \"state\", 'lat', 'long'], axis = 'columns', inplace=True)"
   ]
  },
  {
   "cell_type": "code",
   "execution_count": 5,
   "metadata": {},
   "outputs": [
    {
     "data": {
      "text/html": [
       "<div>\n",
       "<style scoped>\n",
       "    .dataframe tbody tr th:only-of-type {\n",
       "        vertical-align: middle;\n",
       "    }\n",
       "\n",
       "    .dataframe tbody tr th {\n",
       "        vertical-align: top;\n",
       "    }\n",
       "\n",
       "    .dataframe thead th {\n",
       "        text-align: right;\n",
       "    }\n",
       "</style>\n",
       "<table border=\"1\" class=\"dataframe\">\n",
       "  <thead>\n",
       "    <tr style=\"text-align: right;\">\n",
       "      <th></th>\n",
       "      <th>region</th>\n",
       "      <th>type</th>\n",
       "      <th>sqfeet</th>\n",
       "      <th>beds</th>\n",
       "      <th>baths</th>\n",
       "      <th>cats_allowed</th>\n",
       "      <th>dogs_allowed</th>\n",
       "      <th>smoking_allowed</th>\n",
       "      <th>wheelchair_access</th>\n",
       "      <th>electric_vehicle_charge</th>\n",
       "      <th>comes_furnished</th>\n",
       "      <th>laundry_options</th>\n",
       "      <th>parking_options</th>\n",
       "    </tr>\n",
       "  </thead>\n",
       "  <tbody>\n",
       "    <tr>\n",
       "      <th>0</th>\n",
       "      <td>ann arbor</td>\n",
       "      <td>manufactured</td>\n",
       "      <td>1344</td>\n",
       "      <td>3</td>\n",
       "      <td>2.0</td>\n",
       "      <td>0</td>\n",
       "      <td>0</td>\n",
       "      <td>1</td>\n",
       "      <td>0</td>\n",
       "      <td>0</td>\n",
       "      <td>0</td>\n",
       "      <td>w/d in unit</td>\n",
       "      <td>off-street parking</td>\n",
       "    </tr>\n",
       "    <tr>\n",
       "      <th>1</th>\n",
       "      <td>vermont</td>\n",
       "      <td>apartment</td>\n",
       "      <td>1050</td>\n",
       "      <td>2</td>\n",
       "      <td>1.0</td>\n",
       "      <td>0</td>\n",
       "      <td>0</td>\n",
       "      <td>1</td>\n",
       "      <td>0</td>\n",
       "      <td>0</td>\n",
       "      <td>0</td>\n",
       "      <td>w/d hookups</td>\n",
       "      <td>off-street parking</td>\n",
       "    </tr>\n",
       "  </tbody>\n",
       "</table>\n",
       "</div>"
      ],
      "text/plain": [
       "      region          type  sqfeet  beds  baths  cats_allowed  dogs_allowed  \\\n",
       "0  ann arbor  manufactured    1344     3    2.0             0             0   \n",
       "1    vermont     apartment    1050     2    1.0             0             0   \n",
       "\n",
       "   smoking_allowed  wheelchair_access  electric_vehicle_charge  \\\n",
       "0                1                  0                        0   \n",
       "1                1                  0                        0   \n",
       "\n",
       "   comes_furnished laundry_options     parking_options  \n",
       "0                0     w/d in unit  off-street parking  \n",
       "1                0     w/d hookups  off-street parking  "
      ]
     },
     "execution_count": 5,
     "metadata": {},
     "output_type": "execute_result"
    }
   ],
   "source": [
    "df_inm_test.head(2)"
   ]
  },
  {
   "attachments": {},
   "cell_type": "markdown",
   "metadata": {},
   "source": [
    "## Veo la información del Data Set"
   ]
  },
  {
   "cell_type": "code",
   "execution_count": 6,
   "metadata": {},
   "outputs": [
    {
     "name": "stdout",
     "output_type": "stream",
     "text": [
      "<class 'pandas.core.frame.DataFrame'>\n",
      "RangeIndex: 38498 entries, 0 to 38497\n",
      "Data columns (total 13 columns):\n",
      " #   Column                   Non-Null Count  Dtype  \n",
      "---  ------                   --------------  -----  \n",
      " 0   region                   38498 non-null  object \n",
      " 1   type                     38498 non-null  object \n",
      " 2   sqfeet                   38498 non-null  int64  \n",
      " 3   beds                     38498 non-null  int64  \n",
      " 4   baths                    38498 non-null  float64\n",
      " 5   cats_allowed             38498 non-null  int64  \n",
      " 6   dogs_allowed             38498 non-null  int64  \n",
      " 7   smoking_allowed          38498 non-null  int64  \n",
      " 8   wheelchair_access        38498 non-null  int64  \n",
      " 9   electric_vehicle_charge  38498 non-null  int64  \n",
      " 10  comes_furnished          38498 non-null  int64  \n",
      " 11  laundry_options          30643 non-null  object \n",
      " 12  parking_options          24493 non-null  object \n",
      "dtypes: float64(1), int64(8), object(4)\n",
      "memory usage: 3.8+ MB\n"
     ]
    }
   ],
   "source": [
    "df_inm_test.info() "
   ]
  },
  {
   "attachments": {},
   "cell_type": "markdown",
   "metadata": {},
   "source": [
    "## Verifico los duplicados y veo que hay muchos asi que los elimino "
   ]
  },
  {
   "cell_type": "code",
   "execution_count": 7,
   "metadata": {},
   "outputs": [],
   "source": [
    "df_inm_test.duplicated().sum() \n",
    "df_inm_test.drop_duplicates(inplace=True)"
   ]
  },
  {
   "cell_type": "code",
   "execution_count": 8,
   "metadata": {},
   "outputs": [
    {
     "name": "stdout",
     "output_type": "stream",
     "text": [
      "<class 'pandas.core.frame.DataFrame'>\n",
      "Int64Index: 25164 entries, 0 to 38497\n",
      "Data columns (total 13 columns):\n",
      " #   Column                   Non-Null Count  Dtype  \n",
      "---  ------                   --------------  -----  \n",
      " 0   region                   25164 non-null  object \n",
      " 1   type                     25164 non-null  object \n",
      " 2   sqfeet                   25164 non-null  int64  \n",
      " 3   beds                     25164 non-null  int64  \n",
      " 4   baths                    25164 non-null  float64\n",
      " 5   cats_allowed             25164 non-null  int64  \n",
      " 6   dogs_allowed             25164 non-null  int64  \n",
      " 7   smoking_allowed          25164 non-null  int64  \n",
      " 8   wheelchair_access        25164 non-null  int64  \n",
      " 9   electric_vehicle_charge  25164 non-null  int64  \n",
      " 10  comes_furnished          25164 non-null  int64  \n",
      " 11  laundry_options          20383 non-null  object \n",
      " 12  parking_options          16822 non-null  object \n",
      "dtypes: float64(1), int64(8), object(4)\n",
      "memory usage: 2.7+ MB\n"
     ]
    }
   ],
   "source": [
    "df_inm_test.info()"
   ]
  },
  {
   "attachments": {},
   "cell_type": "markdown",
   "metadata": {},
   "source": [
    "## Reemplazo los valores nulos por 'no laundry in site', ya que considero que no es que no haya dato sino que el valor nulo representa que no hay lavadero en el lugar "
   ]
  },
  {
   "cell_type": "code",
   "execution_count": 9,
   "metadata": {},
   "outputs": [],
   "source": [
    "df_inm_test['laundry_options'].fillna('no laundry on site', inplace=True)  "
   ]
  },
  {
   "attachments": {},
   "cell_type": "markdown",
   "metadata": {},
   "source": [
    "## Lo mismo que en la columna anterior pero en parking"
   ]
  },
  {
   "cell_type": "code",
   "execution_count": 10,
   "metadata": {},
   "outputs": [],
   "source": [
    "df_inm_test['parking_options'].fillna('no parking', inplace=True) "
   ]
  },
  {
   "attachments": {},
   "cell_type": "markdown",
   "metadata": {},
   "source": [
    " ## Vuelvo a verificar que no haya nulos"
   ]
  },
  {
   "cell_type": "code",
   "execution_count": 11,
   "metadata": {},
   "outputs": [
    {
     "name": "stdout",
     "output_type": "stream",
     "text": [
      "<class 'pandas.core.frame.DataFrame'>\n",
      "Int64Index: 25164 entries, 0 to 38497\n",
      "Data columns (total 13 columns):\n",
      " #   Column                   Non-Null Count  Dtype  \n",
      "---  ------                   --------------  -----  \n",
      " 0   region                   25164 non-null  object \n",
      " 1   type                     25164 non-null  object \n",
      " 2   sqfeet                   25164 non-null  int64  \n",
      " 3   beds                     25164 non-null  int64  \n",
      " 4   baths                    25164 non-null  float64\n",
      " 5   cats_allowed             25164 non-null  int64  \n",
      " 6   dogs_allowed             25164 non-null  int64  \n",
      " 7   smoking_allowed          25164 non-null  int64  \n",
      " 8   wheelchair_access        25164 non-null  int64  \n",
      " 9   electric_vehicle_charge  25164 non-null  int64  \n",
      " 10  comes_furnished          25164 non-null  int64  \n",
      " 11  laundry_options          25164 non-null  object \n",
      " 12  parking_options          25164 non-null  object \n",
      "dtypes: float64(1), int64(8), object(4)\n",
      "memory usage: 2.7+ MB\n"
     ]
    }
   ],
   "source": [
    "df_inm_test.info() "
   ]
  },
  {
   "attachments": {},
   "cell_type": "markdown",
   "metadata": {},
   "source": [
    "## Creo columnas con las variables de 'laundry', 'parking' y 'type'"
   ]
  },
  {
   "cell_type": "code",
   "execution_count": 12,
   "metadata": {},
   "outputs": [],
   "source": [
    "dummies_laundry=pd.get_dummies(df_inm_test.laundry_options)\n",
    "df_inm_test = pd.concat([df_inm_test, dummies_laundry], axis=1,) "
   ]
  },
  {
   "cell_type": "code",
   "execution_count": 13,
   "metadata": {},
   "outputs": [],
   "source": [
    "dummies_parking=pd.get_dummies(df_inm_test.parking_options)\n",
    "df_inm_test = pd.concat([df_inm_test, dummies_parking], axis=1,) "
   ]
  },
  {
   "cell_type": "code",
   "execution_count": 14,
   "metadata": {},
   "outputs": [],
   "source": [
    "dummies_type=pd.get_dummies(df_inm_test.type)\n",
    "df_inm_test = pd.concat([df_inm_test, dummies_type], axis=1,)  "
   ]
  },
  {
   "attachments": {},
   "cell_type": "markdown",
   "metadata": {},
   "source": [
    "## Elimino las columnas que ya no voy a utilizar con variables cualitativas."
   ]
  },
  {
   "cell_type": "code",
   "execution_count": 15,
   "metadata": {},
   "outputs": [],
   "source": [
    "del df_inm_test['laundry_options']\n",
    "del df_inm_test['parking_options']\n",
    "del df_inm_test['type'] "
   ]
  },
  {
   "attachments": {},
   "cell_type": "markdown",
   "metadata": {},
   "source": [
    "## Verifico que region tiene muchas categorias de datos por lo que es mejor eliminarla "
   ]
  },
  {
   "cell_type": "code",
   "execution_count": 16,
   "metadata": {},
   "outputs": [
    {
     "data": {
      "text/plain": [
       "portland          253\n",
       "austin            240\n",
       "seattle-tacoma    235\n",
       "denver            224\n",
       "rochester         224\n",
       "                 ... \n",
       "brainerd            1\n",
       "southwest MS        1\n",
       "farmington          1\n",
       "northwest KS        1\n",
       "ashtabula           1\n",
       "Name: region, Length: 398, dtype: int64"
      ]
     },
     "execution_count": 16,
     "metadata": {},
     "output_type": "execute_result"
    }
   ],
   "source": [
    "df_inm_test['region'].value_counts() "
   ]
  },
  {
   "cell_type": "code",
   "execution_count": 17,
   "metadata": {},
   "outputs": [],
   "source": [
    "del df_inm_test['region']"
   ]
  },
  {
   "attachments": {},
   "cell_type": "markdown",
   "metadata": {},
   "source": [
    "## Veo los valores estadisticos del data set"
   ]
  },
  {
   "cell_type": "code",
   "execution_count": 18,
   "metadata": {},
   "outputs": [
    {
     "data": {
      "text/html": [
       "<div>\n",
       "<style scoped>\n",
       "    .dataframe tbody tr th:only-of-type {\n",
       "        vertical-align: middle;\n",
       "    }\n",
       "\n",
       "    .dataframe tbody tr th {\n",
       "        vertical-align: top;\n",
       "    }\n",
       "\n",
       "    .dataframe thead th {\n",
       "        text-align: right;\n",
       "    }\n",
       "</style>\n",
       "<table border=\"1\" class=\"dataframe\">\n",
       "  <thead>\n",
       "    <tr style=\"text-align: right;\">\n",
       "      <th></th>\n",
       "      <th>sqfeet</th>\n",
       "      <th>beds</th>\n",
       "      <th>baths</th>\n",
       "      <th>cats_allowed</th>\n",
       "      <th>dogs_allowed</th>\n",
       "      <th>smoking_allowed</th>\n",
       "      <th>wheelchair_access</th>\n",
       "      <th>electric_vehicle_charge</th>\n",
       "      <th>comes_furnished</th>\n",
       "      <th>laundry in bldg</th>\n",
       "      <th>...</th>\n",
       "      <th>apartment</th>\n",
       "      <th>condo</th>\n",
       "      <th>cottage/cabin</th>\n",
       "      <th>duplex</th>\n",
       "      <th>flat</th>\n",
       "      <th>house</th>\n",
       "      <th>in-law</th>\n",
       "      <th>loft</th>\n",
       "      <th>manufactured</th>\n",
       "      <th>townhouse</th>\n",
       "    </tr>\n",
       "  </thead>\n",
       "  <tbody>\n",
       "    <tr>\n",
       "      <th>count</th>\n",
       "      <td>25164.000000</td>\n",
       "      <td>25164.000000</td>\n",
       "      <td>25164.000000</td>\n",
       "      <td>25164.000000</td>\n",
       "      <td>25164.000000</td>\n",
       "      <td>25164.000000</td>\n",
       "      <td>25164.000000</td>\n",
       "      <td>25164.000000</td>\n",
       "      <td>25164.000000</td>\n",
       "      <td>25164.000000</td>\n",
       "      <td>...</td>\n",
       "      <td>25164.000000</td>\n",
       "      <td>25164.000000</td>\n",
       "      <td>25164.000000</td>\n",
       "      <td>25164.000000</td>\n",
       "      <td>25164.000000</td>\n",
       "      <td>25164.000000</td>\n",
       "      <td>25164.000000</td>\n",
       "      <td>25164.000000</td>\n",
       "      <td>25164.000000</td>\n",
       "      <td>25164.000000</td>\n",
       "    </tr>\n",
       "    <tr>\n",
       "      <th>mean</th>\n",
       "      <td>1037.842275</td>\n",
       "      <td>1.992529</td>\n",
       "      <td>1.497934</td>\n",
       "      <td>0.699770</td>\n",
       "      <td>0.677992</td>\n",
       "      <td>0.693173</td>\n",
       "      <td>0.088539</td>\n",
       "      <td>0.017763</td>\n",
       "      <td>0.053926</td>\n",
       "      <td>0.099348</td>\n",
       "      <td>...</td>\n",
       "      <td>0.769115</td>\n",
       "      <td>0.022850</td>\n",
       "      <td>0.003179</td>\n",
       "      <td>0.018677</td>\n",
       "      <td>0.002305</td>\n",
       "      <td>0.123033</td>\n",
       "      <td>0.000755</td>\n",
       "      <td>0.002702</td>\n",
       "      <td>0.012876</td>\n",
       "      <td>0.044508</td>\n",
       "    </tr>\n",
       "    <tr>\n",
       "      <th>std</th>\n",
       "      <td>823.236456</td>\n",
       "      <td>6.984056</td>\n",
       "      <td>0.768818</td>\n",
       "      <td>0.458367</td>\n",
       "      <td>0.467255</td>\n",
       "      <td>0.461186</td>\n",
       "      <td>0.284083</td>\n",
       "      <td>0.132093</td>\n",
       "      <td>0.225877</td>\n",
       "      <td>0.299135</td>\n",
       "      <td>...</td>\n",
       "      <td>0.421408</td>\n",
       "      <td>0.149428</td>\n",
       "      <td>0.056295</td>\n",
       "      <td>0.135386</td>\n",
       "      <td>0.047955</td>\n",
       "      <td>0.328482</td>\n",
       "      <td>0.027468</td>\n",
       "      <td>0.051914</td>\n",
       "      <td>0.112740</td>\n",
       "      <td>0.206225</td>\n",
       "    </tr>\n",
       "    <tr>\n",
       "      <th>min</th>\n",
       "      <td>0.000000</td>\n",
       "      <td>0.000000</td>\n",
       "      <td>0.000000</td>\n",
       "      <td>0.000000</td>\n",
       "      <td>0.000000</td>\n",
       "      <td>0.000000</td>\n",
       "      <td>0.000000</td>\n",
       "      <td>0.000000</td>\n",
       "      <td>0.000000</td>\n",
       "      <td>0.000000</td>\n",
       "      <td>...</td>\n",
       "      <td>0.000000</td>\n",
       "      <td>0.000000</td>\n",
       "      <td>0.000000</td>\n",
       "      <td>0.000000</td>\n",
       "      <td>0.000000</td>\n",
       "      <td>0.000000</td>\n",
       "      <td>0.000000</td>\n",
       "      <td>0.000000</td>\n",
       "      <td>0.000000</td>\n",
       "      <td>0.000000</td>\n",
       "    </tr>\n",
       "    <tr>\n",
       "      <th>25%</th>\n",
       "      <td>754.000000</td>\n",
       "      <td>1.000000</td>\n",
       "      <td>1.000000</td>\n",
       "      <td>0.000000</td>\n",
       "      <td>0.000000</td>\n",
       "      <td>0.000000</td>\n",
       "      <td>0.000000</td>\n",
       "      <td>0.000000</td>\n",
       "      <td>0.000000</td>\n",
       "      <td>0.000000</td>\n",
       "      <td>...</td>\n",
       "      <td>1.000000</td>\n",
       "      <td>0.000000</td>\n",
       "      <td>0.000000</td>\n",
       "      <td>0.000000</td>\n",
       "      <td>0.000000</td>\n",
       "      <td>0.000000</td>\n",
       "      <td>0.000000</td>\n",
       "      <td>0.000000</td>\n",
       "      <td>0.000000</td>\n",
       "      <td>0.000000</td>\n",
       "    </tr>\n",
       "    <tr>\n",
       "      <th>50%</th>\n",
       "      <td>955.000000</td>\n",
       "      <td>2.000000</td>\n",
       "      <td>1.000000</td>\n",
       "      <td>1.000000</td>\n",
       "      <td>1.000000</td>\n",
       "      <td>1.000000</td>\n",
       "      <td>0.000000</td>\n",
       "      <td>0.000000</td>\n",
       "      <td>0.000000</td>\n",
       "      <td>0.000000</td>\n",
       "      <td>...</td>\n",
       "      <td>1.000000</td>\n",
       "      <td>0.000000</td>\n",
       "      <td>0.000000</td>\n",
       "      <td>0.000000</td>\n",
       "      <td>0.000000</td>\n",
       "      <td>0.000000</td>\n",
       "      <td>0.000000</td>\n",
       "      <td>0.000000</td>\n",
       "      <td>0.000000</td>\n",
       "      <td>0.000000</td>\n",
       "    </tr>\n",
       "    <tr>\n",
       "      <th>75%</th>\n",
       "      <td>1191.000000</td>\n",
       "      <td>2.000000</td>\n",
       "      <td>2.000000</td>\n",
       "      <td>1.000000</td>\n",
       "      <td>1.000000</td>\n",
       "      <td>1.000000</td>\n",
       "      <td>0.000000</td>\n",
       "      <td>0.000000</td>\n",
       "      <td>0.000000</td>\n",
       "      <td>0.000000</td>\n",
       "      <td>...</td>\n",
       "      <td>1.000000</td>\n",
       "      <td>0.000000</td>\n",
       "      <td>0.000000</td>\n",
       "      <td>0.000000</td>\n",
       "      <td>0.000000</td>\n",
       "      <td>0.000000</td>\n",
       "      <td>0.000000</td>\n",
       "      <td>0.000000</td>\n",
       "      <td>0.000000</td>\n",
       "      <td>0.000000</td>\n",
       "    </tr>\n",
       "    <tr>\n",
       "      <th>max</th>\n",
       "      <td>95242.000000</td>\n",
       "      <td>1100.000000</td>\n",
       "      <td>75.000000</td>\n",
       "      <td>1.000000</td>\n",
       "      <td>1.000000</td>\n",
       "      <td>1.000000</td>\n",
       "      <td>1.000000</td>\n",
       "      <td>1.000000</td>\n",
       "      <td>1.000000</td>\n",
       "      <td>1.000000</td>\n",
       "      <td>...</td>\n",
       "      <td>1.000000</td>\n",
       "      <td>1.000000</td>\n",
       "      <td>1.000000</td>\n",
       "      <td>1.000000</td>\n",
       "      <td>1.000000</td>\n",
       "      <td>1.000000</td>\n",
       "      <td>1.000000</td>\n",
       "      <td>1.000000</td>\n",
       "      <td>1.000000</td>\n",
       "      <td>1.000000</td>\n",
       "    </tr>\n",
       "  </tbody>\n",
       "</table>\n",
       "<p>8 rows × 31 columns</p>\n",
       "</div>"
      ],
      "text/plain": [
       "             sqfeet          beds         baths  cats_allowed  dogs_allowed  \\\n",
       "count  25164.000000  25164.000000  25164.000000  25164.000000  25164.000000   \n",
       "mean    1037.842275      1.992529      1.497934      0.699770      0.677992   \n",
       "std      823.236456      6.984056      0.768818      0.458367      0.467255   \n",
       "min        0.000000      0.000000      0.000000      0.000000      0.000000   \n",
       "25%      754.000000      1.000000      1.000000      0.000000      0.000000   \n",
       "50%      955.000000      2.000000      1.000000      1.000000      1.000000   \n",
       "75%     1191.000000      2.000000      2.000000      1.000000      1.000000   \n",
       "max    95242.000000   1100.000000     75.000000      1.000000      1.000000   \n",
       "\n",
       "       smoking_allowed  wheelchair_access  electric_vehicle_charge  \\\n",
       "count     25164.000000       25164.000000             25164.000000   \n",
       "mean          0.693173           0.088539                 0.017763   \n",
       "std           0.461186           0.284083                 0.132093   \n",
       "min           0.000000           0.000000                 0.000000   \n",
       "25%           0.000000           0.000000                 0.000000   \n",
       "50%           1.000000           0.000000                 0.000000   \n",
       "75%           1.000000           0.000000                 0.000000   \n",
       "max           1.000000           1.000000                 1.000000   \n",
       "\n",
       "       comes_furnished  laundry in bldg  ...     apartment         condo  \\\n",
       "count     25164.000000     25164.000000  ...  25164.000000  25164.000000   \n",
       "mean          0.053926         0.099348  ...      0.769115      0.022850   \n",
       "std           0.225877         0.299135  ...      0.421408      0.149428   \n",
       "min           0.000000         0.000000  ...      0.000000      0.000000   \n",
       "25%           0.000000         0.000000  ...      1.000000      0.000000   \n",
       "50%           0.000000         0.000000  ...      1.000000      0.000000   \n",
       "75%           0.000000         0.000000  ...      1.000000      0.000000   \n",
       "max           1.000000         1.000000  ...      1.000000      1.000000   \n",
       "\n",
       "       cottage/cabin        duplex          flat         house        in-law  \\\n",
       "count   25164.000000  25164.000000  25164.000000  25164.000000  25164.000000   \n",
       "mean        0.003179      0.018677      0.002305      0.123033      0.000755   \n",
       "std         0.056295      0.135386      0.047955      0.328482      0.027468   \n",
       "min         0.000000      0.000000      0.000000      0.000000      0.000000   \n",
       "25%         0.000000      0.000000      0.000000      0.000000      0.000000   \n",
       "50%         0.000000      0.000000      0.000000      0.000000      0.000000   \n",
       "75%         0.000000      0.000000      0.000000      0.000000      0.000000   \n",
       "max         1.000000      1.000000      1.000000      1.000000      1.000000   \n",
       "\n",
       "               loft  manufactured     townhouse  \n",
       "count  25164.000000  25164.000000  25164.000000  \n",
       "mean       0.002702      0.012876      0.044508  \n",
       "std        0.051914      0.112740      0.206225  \n",
       "min        0.000000      0.000000      0.000000  \n",
       "25%        0.000000      0.000000      0.000000  \n",
       "50%        0.000000      0.000000      0.000000  \n",
       "75%        0.000000      0.000000      0.000000  \n",
       "max        1.000000      1.000000      1.000000  \n",
       "\n",
       "[8 rows x 31 columns]"
      ]
     },
     "execution_count": 18,
     "metadata": {},
     "output_type": "execute_result"
    }
   ],
   "source": [
    "df_inm_test.describe() "
   ]
  },
  {
   "attachments": {},
   "cell_type": "markdown",
   "metadata": {},
   "source": [
    "## Importo librerias para buscar valores atipicos"
   ]
  },
  {
   "cell_type": "code",
   "execution_count": 19,
   "metadata": {},
   "outputs": [],
   "source": [
    "import sklearn\n",
    "from sklearn.datasets import load_boston \n",
    "import pandas as pd\n",
    "import matplotlib.pyplot as plt\n",
    "import seaborn as sns"
   ]
  },
  {
   "attachments": {},
   "cell_type": "markdown",
   "metadata": {},
   "source": [
    "## Grafico 'beds' en busqueda de valores atípicos."
   ]
  },
  {
   "cell_type": "code",
   "execution_count": 20,
   "metadata": {},
   "outputs": [
    {
     "data": {
      "text/plain": [
       "<AxesSubplot: >"
      ]
     },
     "execution_count": 20,
     "metadata": {},
     "output_type": "execute_result"
    },
    {
     "data": {
      "image/png": "[encoded data removed]",
      "text/plain": [
       "<Figure size 640x480 with 1 Axes>"
      ]
     },
     "metadata": {},
     "output_type": "display_data"
    }
   ],
   "source": [
    "sns.boxplot(df_inm_test['beds'])\n",
    "#sns.boxplot(df_inm_test['sqfeet'])"
   ]
  },
  {
   "attachments": {},
   "cell_type": "markdown",
   "metadata": {},
   "source": [
    "## Creo las variables para marcar los limites de valores atípicos"
   ]
  },
  {
   "cell_type": "code",
   "execution_count": 21,
   "metadata": {},
   "outputs": [],
   "source": [
    "lower_beds = df_inm_test.beds.quantile(0.25)\n",
    "upper_beds = df_inm_test.beds.quantile(0.95)"
   ]
  },
  {
   "attachments": {},
   "cell_type": "markdown",
   "metadata": {},
   "source": [
    "## Quito Valores atípicosy lo guardo notra variable "
   ]
  },
  {
   "cell_type": "code",
   "execution_count": 23,
   "metadata": {},
   "outputs": [],
   "source": [
    "df_filtered = df_inm_test[(df_inm_test[\"beds\"] < 5) & (df_inm_test[\"beds\"] > 0)]\n"
   ]
  },
  {
   "attachments": {},
   "cell_type": "markdown",
   "metadata": {},
   "source": [
    "## Grafico 'beds' para ver los resultados."
   ]
  },
  {
   "cell_type": "code",
   "execution_count": 24,
   "metadata": {},
   "outputs": [
    {
     "data": {
      "text/plain": [
       "<AxesSubplot: >"
      ]
     },
     "execution_count": 24,
     "metadata": {},
     "output_type": "execute_result"
    },
    {
     "data": {
      "image/png": "[encoded data removed]",
      "text/plain": [
       "<Figure size 640x480 with 1 Axes>"
      ]
     },
     "metadata": {},
     "output_type": "display_data"
    }
   ],
   "source": [
    "sns.boxplot(df_filtered['beds'])"
   ]
  },
  {
   "attachments": {},
   "cell_type": "markdown",
   "metadata": {},
   "source": [
    "## Grafico 'sqfeet' en busqueda de valores atípicos."
   ]
  },
  {
   "cell_type": "code",
   "execution_count": 25,
   "metadata": {},
   "outputs": [
    {
     "data": {
      "text/plain": [
       "<AxesSubplot: >"
      ]
     },
     "execution_count": 25,
     "metadata": {},
     "output_type": "execute_result"
    },
    {
     "data": {
      "image/png": "[encoded data removed]",
      "text/plain": [
       "<Figure size 640x480 with 1 Axes>"
      ]
     },
     "metadata": {},
     "output_type": "display_data"
    }
   ],
   "source": [
    "sns.boxplot(df_filtered['sqfeet'])"
   ]
  },
  {
   "attachments": {},
   "cell_type": "markdown",
   "metadata": {},
   "source": [
    "## Creo los rangos de eliminacion de valores atípicos segun el grafico anterior"
   ]
  },
  {
   "cell_type": "code",
   "execution_count": 26,
   "metadata": {},
   "outputs": [],
   "source": [
    "df_filtered = df_inm_test[(df_inm_test[\"sqfeet\"] < 3000) & (df_inm_test[\"sqfeet\"] > 50)]\n"
   ]
  },
  {
   "attachments": {},
   "cell_type": "markdown",
   "metadata": {},
   "source": [
    "## Verifico como quedo 'sqfeet' "
   ]
  },
  {
   "cell_type": "code",
   "execution_count": 29,
   "metadata": {},
   "outputs": [
    {
     "data": {
      "text/plain": [
       "<AxesSubplot: >"
      ]
     },
     "execution_count": 29,
     "metadata": {},
     "output_type": "execute_result"
    },
    {
     "data": {
      "image/png": "[encoded data removed]",
      "text/plain": [
       "<Figure size 640x480 with 1 Axes>"
      ]
     },
     "metadata": {},
     "output_type": "display_data"
    }
   ],
   "source": [
    "sns.boxplot(df_filtered['sqfeet'])"
   ]
  },
  {
   "attachments": {},
   "cell_type": "markdown",
   "metadata": {},
   "source": [
    "## Grafico 'Baths' en búsqueda de valores atípicos"
   ]
  },
  {
   "cell_type": "code",
   "execution_count": 32,
   "metadata": {},
   "outputs": [
    {
     "data": {
      "text/plain": [
       "<AxesSubplot: >"
      ]
     },
     "execution_count": 32,
     "metadata": {},
     "output_type": "execute_result"
    },
    {
     "data": {
      "image/png": "[encoded data removed]",
      "text/plain": [
       "<Figure size 640x480 with 1 Axes>"
      ]
     },
     "metadata": {},
     "output_type": "display_data"
    }
   ],
   "source": [
    "sns.boxplot(df_filtered['baths'])"
   ]
  },
  {
   "attachments": {},
   "cell_type": "markdown",
   "metadata": {},
   "source": [
    "## Elimino valores atípicos segun el grafico anterior"
   ]
  },
  {
   "cell_type": "code",
   "execution_count": 33,
   "metadata": {},
   "outputs": [],
   "source": [
    "df_filtered = df_inm_test[(df_inm_test[\"baths\"] < 5) & (df_inm_test[\"baths\"] > 0)]"
   ]
  },
  {
   "attachments": {},
   "cell_type": "markdown",
   "metadata": {},
   "source": [
    "## Vuelvo a graficar para ver como quedo 'Baths'"
   ]
  },
  {
   "cell_type": "code",
   "execution_count": 34,
   "metadata": {},
   "outputs": [
    {
     "data": {
      "text/plain": [
       "<AxesSubplot: >"
      ]
     },
     "execution_count": 34,
     "metadata": {},
     "output_type": "execute_result"
    },
    {
     "data": {
      "image/png": "[encoded data removed]",
      "text/plain": [
       "<Figure size 640x480 with 1 Axes>"
      ]
     },
     "metadata": {},
     "output_type": "display_data"
    }
   ],
   "source": [
    "sns.boxplot(df_filtered['baths'])"
   ]
  },
  {
   "attachments": {},
   "cell_type": "markdown",
   "metadata": {},
   "source": [
    "## Importo K Means para hacer el modelo de predicción"
   ]
  },
  {
   "cell_type": "code",
   "execution_count": 50,
   "metadata": {},
   "outputs": [],
   "source": [
    "from sklearn.cluster import KMeans"
   ]
  },
  {
   "attachments": {},
   "cell_type": "markdown",
   "metadata": {},
   "source": [
    "## Indico la cantidad de clusters, ajusto el dataset al modelo que voy a utilizar y hago la predicción."
   ]
  },
  {
   "cell_type": "code",
   "execution_count": 43,
   "metadata": {},
   "outputs": [],
   "source": [
    "kmeans = KMeans(n_clusters=3)  \n",
    "kmeans.fit(df_filtered)\n",
    "clusters = kmeans.predict(df_filtered)"
   ]
  },
  {
   "attachments": {},
   "cell_type": "markdown",
   "metadata": {},
   "source": [
    "## Los valores del array clusters van a la columna pred que creo, hago un mapeo y efectivizo la asignacion"
   ]
  },
  {
   "cell_type": "code",
   "execution_count": 45,
   "metadata": {},
   "outputs": [
    {
     "name": "stderr",
     "output_type": "stream",
     "text": [
      "C:\\Users\\LUIS RODRIGUEZ\\AppData\\Local\\Temp\\ipykernel_8100\\656958058.py:1: SettingWithCopyWarning: \n",
      "A value is trying to be set on a copy of a slice from a DataFrame.\n",
      "Try using .loc[row_indexer,col_indexer] = value instead\n",
      "\n",
      "See the caveats in the documentation: https://pandas.pydata.org/pandas-docs/stable/user_guide/indexing.html#returning-a-view-versus-a-copy\n",
      "  df_filtered['pred'] = clusters#los valores del array clusters van a la columna pred que creo.\n",
      "C:\\Users\\LUIS RODRIGUEZ\\AppData\\Local\\Temp\\ipykernel_8100\\656958058.py:3: SettingWithCopyWarning: \n",
      "A value is trying to be set on a copy of a slice from a DataFrame.\n",
      "Try using .loc[row_indexer,col_indexer] = value instead\n",
      "\n",
      "See the caveats in the documentation: https://pandas.pydata.org/pandas-docs/stable/user_guide/indexing.html#returning-a-view-versus-a-copy\n",
      "  df_filtered['pred'] = df_filtered['pred'].map(cluster_mapping)#Efectivizo la asignacion\n"
     ]
    },
    {
     "data": {
      "text/html": [
       "<div>\n",
       "<style scoped>\n",
       "    .dataframe tbody tr th:only-of-type {\n",
       "        vertical-align: middle;\n",
       "    }\n",
       "\n",
       "    .dataframe tbody tr th {\n",
       "        vertical-align: top;\n",
       "    }\n",
       "\n",
       "    .dataframe thead th {\n",
       "        text-align: right;\n",
       "    }\n",
       "</style>\n",
       "<table border=\"1\" class=\"dataframe\">\n",
       "  <thead>\n",
       "    <tr style=\"text-align: right;\">\n",
       "      <th></th>\n",
       "      <th>sqfeet</th>\n",
       "      <th>beds</th>\n",
       "      <th>baths</th>\n",
       "      <th>cats_allowed</th>\n",
       "      <th>dogs_allowed</th>\n",
       "      <th>smoking_allowed</th>\n",
       "      <th>wheelchair_access</th>\n",
       "      <th>electric_vehicle_charge</th>\n",
       "      <th>comes_furnished</th>\n",
       "      <th>laundry in bldg</th>\n",
       "      <th>...</th>\n",
       "      <th>condo</th>\n",
       "      <th>cottage/cabin</th>\n",
       "      <th>duplex</th>\n",
       "      <th>flat</th>\n",
       "      <th>house</th>\n",
       "      <th>in-law</th>\n",
       "      <th>loft</th>\n",
       "      <th>manufactured</th>\n",
       "      <th>townhouse</th>\n",
       "      <th>pred</th>\n",
       "    </tr>\n",
       "  </thead>\n",
       "  <tbody>\n",
       "    <tr>\n",
       "      <th>0</th>\n",
       "      <td>1344</td>\n",
       "      <td>3</td>\n",
       "      <td>2.0</td>\n",
       "      <td>0</td>\n",
       "      <td>0</td>\n",
       "      <td>1</td>\n",
       "      <td>0</td>\n",
       "      <td>0</td>\n",
       "      <td>0</td>\n",
       "      <td>0</td>\n",
       "      <td>...</td>\n",
       "      <td>0</td>\n",
       "      <td>0</td>\n",
       "      <td>0</td>\n",
       "      <td>0</td>\n",
       "      <td>0</td>\n",
       "      <td>0</td>\n",
       "      <td>0</td>\n",
       "      <td>1</td>\n",
       "      <td>0</td>\n",
       "      <td>0</td>\n",
       "    </tr>\n",
       "    <tr>\n",
       "      <th>1</th>\n",
       "      <td>1050</td>\n",
       "      <td>2</td>\n",
       "      <td>1.0</td>\n",
       "      <td>0</td>\n",
       "      <td>0</td>\n",
       "      <td>1</td>\n",
       "      <td>0</td>\n",
       "      <td>0</td>\n",
       "      <td>0</td>\n",
       "      <td>0</td>\n",
       "      <td>...</td>\n",
       "      <td>0</td>\n",
       "      <td>0</td>\n",
       "      <td>0</td>\n",
       "      <td>0</td>\n",
       "      <td>0</td>\n",
       "      <td>0</td>\n",
       "      <td>0</td>\n",
       "      <td>0</td>\n",
       "      <td>0</td>\n",
       "      <td>0</td>\n",
       "    </tr>\n",
       "    <tr>\n",
       "      <th>2</th>\n",
       "      <td>1150</td>\n",
       "      <td>2</td>\n",
       "      <td>2.0</td>\n",
       "      <td>1</td>\n",
       "      <td>1</td>\n",
       "      <td>1</td>\n",
       "      <td>1</td>\n",
       "      <td>0</td>\n",
       "      <td>0</td>\n",
       "      <td>0</td>\n",
       "      <td>...</td>\n",
       "      <td>0</td>\n",
       "      <td>0</td>\n",
       "      <td>0</td>\n",
       "      <td>0</td>\n",
       "      <td>0</td>\n",
       "      <td>0</td>\n",
       "      <td>0</td>\n",
       "      <td>0</td>\n",
       "      <td>0</td>\n",
       "      <td>0</td>\n",
       "    </tr>\n",
       "    <tr>\n",
       "      <th>3</th>\n",
       "      <td>1280</td>\n",
       "      <td>2</td>\n",
       "      <td>2.5</td>\n",
       "      <td>1</td>\n",
       "      <td>1</td>\n",
       "      <td>0</td>\n",
       "      <td>0</td>\n",
       "      <td>0</td>\n",
       "      <td>0</td>\n",
       "      <td>0</td>\n",
       "      <td>...</td>\n",
       "      <td>0</td>\n",
       "      <td>0</td>\n",
       "      <td>0</td>\n",
       "      <td>0</td>\n",
       "      <td>0</td>\n",
       "      <td>0</td>\n",
       "      <td>0</td>\n",
       "      <td>0</td>\n",
       "      <td>0</td>\n",
       "      <td>0</td>\n",
       "    </tr>\n",
       "    <tr>\n",
       "      <th>4</th>\n",
       "      <td>783</td>\n",
       "      <td>2</td>\n",
       "      <td>1.0</td>\n",
       "      <td>1</td>\n",
       "      <td>1</td>\n",
       "      <td>1</td>\n",
       "      <td>0</td>\n",
       "      <td>0</td>\n",
       "      <td>0</td>\n",
       "      <td>0</td>\n",
       "      <td>...</td>\n",
       "      <td>0</td>\n",
       "      <td>0</td>\n",
       "      <td>0</td>\n",
       "      <td>0</td>\n",
       "      <td>0</td>\n",
       "      <td>0</td>\n",
       "      <td>0</td>\n",
       "      <td>0</td>\n",
       "      <td>0</td>\n",
       "      <td>0</td>\n",
       "    </tr>\n",
       "    <tr>\n",
       "      <th>...</th>\n",
       "      <td>...</td>\n",
       "      <td>...</td>\n",
       "      <td>...</td>\n",
       "      <td>...</td>\n",
       "      <td>...</td>\n",
       "      <td>...</td>\n",
       "      <td>...</td>\n",
       "      <td>...</td>\n",
       "      <td>...</td>\n",
       "      <td>...</td>\n",
       "      <td>...</td>\n",
       "      <td>...</td>\n",
       "      <td>...</td>\n",
       "      <td>...</td>\n",
       "      <td>...</td>\n",
       "      <td>...</td>\n",
       "      <td>...</td>\n",
       "      <td>...</td>\n",
       "      <td>...</td>\n",
       "      <td>...</td>\n",
       "      <td>...</td>\n",
       "    </tr>\n",
       "    <tr>\n",
       "      <th>38493</th>\n",
       "      <td>1180</td>\n",
       "      <td>2</td>\n",
       "      <td>2.0</td>\n",
       "      <td>1</td>\n",
       "      <td>1</td>\n",
       "      <td>0</td>\n",
       "      <td>1</td>\n",
       "      <td>0</td>\n",
       "      <td>0</td>\n",
       "      <td>0</td>\n",
       "      <td>...</td>\n",
       "      <td>0</td>\n",
       "      <td>0</td>\n",
       "      <td>0</td>\n",
       "      <td>0</td>\n",
       "      <td>0</td>\n",
       "      <td>0</td>\n",
       "      <td>0</td>\n",
       "      <td>0</td>\n",
       "      <td>0</td>\n",
       "      <td>0</td>\n",
       "    </tr>\n",
       "    <tr>\n",
       "      <th>38494</th>\n",
       "      <td>1138</td>\n",
       "      <td>3</td>\n",
       "      <td>2.0</td>\n",
       "      <td>1</td>\n",
       "      <td>1</td>\n",
       "      <td>1</td>\n",
       "      <td>0</td>\n",
       "      <td>0</td>\n",
       "      <td>0</td>\n",
       "      <td>0</td>\n",
       "      <td>...</td>\n",
       "      <td>0</td>\n",
       "      <td>0</td>\n",
       "      <td>0</td>\n",
       "      <td>0</td>\n",
       "      <td>0</td>\n",
       "      <td>0</td>\n",
       "      <td>0</td>\n",
       "      <td>0</td>\n",
       "      <td>0</td>\n",
       "      <td>0</td>\n",
       "    </tr>\n",
       "    <tr>\n",
       "      <th>38495</th>\n",
       "      <td>743</td>\n",
       "      <td>1</td>\n",
       "      <td>1.0</td>\n",
       "      <td>1</td>\n",
       "      <td>1</td>\n",
       "      <td>1</td>\n",
       "      <td>0</td>\n",
       "      <td>0</td>\n",
       "      <td>0</td>\n",
       "      <td>0</td>\n",
       "      <td>...</td>\n",
       "      <td>0</td>\n",
       "      <td>0</td>\n",
       "      <td>0</td>\n",
       "      <td>0</td>\n",
       "      <td>0</td>\n",
       "      <td>0</td>\n",
       "      <td>0</td>\n",
       "      <td>0</td>\n",
       "      <td>0</td>\n",
       "      <td>0</td>\n",
       "    </tr>\n",
       "    <tr>\n",
       "      <th>38496</th>\n",
       "      <td>1276</td>\n",
       "      <td>3</td>\n",
       "      <td>2.0</td>\n",
       "      <td>0</td>\n",
       "      <td>0</td>\n",
       "      <td>0</td>\n",
       "      <td>0</td>\n",
       "      <td>0</td>\n",
       "      <td>0</td>\n",
       "      <td>0</td>\n",
       "      <td>...</td>\n",
       "      <td>0</td>\n",
       "      <td>0</td>\n",
       "      <td>0</td>\n",
       "      <td>0</td>\n",
       "      <td>1</td>\n",
       "      <td>0</td>\n",
       "      <td>0</td>\n",
       "      <td>0</td>\n",
       "      <td>0</td>\n",
       "      <td>0</td>\n",
       "    </tr>\n",
       "    <tr>\n",
       "      <th>38497</th>\n",
       "      <td>687</td>\n",
       "      <td>1</td>\n",
       "      <td>1.0</td>\n",
       "      <td>1</td>\n",
       "      <td>1</td>\n",
       "      <td>1</td>\n",
       "      <td>0</td>\n",
       "      <td>0</td>\n",
       "      <td>0</td>\n",
       "      <td>0</td>\n",
       "      <td>...</td>\n",
       "      <td>0</td>\n",
       "      <td>0</td>\n",
       "      <td>0</td>\n",
       "      <td>0</td>\n",
       "      <td>0</td>\n",
       "      <td>0</td>\n",
       "      <td>0</td>\n",
       "      <td>0</td>\n",
       "      <td>0</td>\n",
       "      <td>0</td>\n",
       "    </tr>\n",
       "  </tbody>\n",
       "</table>\n",
       "<p>24913 rows × 32 columns</p>\n",
       "</div>"
      ],
      "text/plain": [
       "       sqfeet  beds  baths  cats_allowed  dogs_allowed  smoking_allowed  \\\n",
       "0        1344     3    2.0             0             0                1   \n",
       "1        1050     2    1.0             0             0                1   \n",
       "2        1150     2    2.0             1             1                1   \n",
       "3        1280     2    2.5             1             1                0   \n",
       "4         783     2    1.0             1             1                1   \n",
       "...       ...   ...    ...           ...           ...              ...   \n",
       "38493    1180     2    2.0             1             1                0   \n",
       "38494    1138     3    2.0             1             1                1   \n",
       "38495     743     1    1.0             1             1                1   \n",
       "38496    1276     3    2.0             0             0                0   \n",
       "38497     687     1    1.0             1             1                1   \n",
       "\n",
       "       wheelchair_access  electric_vehicle_charge  comes_furnished  \\\n",
       "0                      0                        0                0   \n",
       "1                      0                        0                0   \n",
       "2                      1                        0                0   \n",
       "3                      0                        0                0   \n",
       "4                      0                        0                0   \n",
       "...                  ...                      ...              ...   \n",
       "38493                  1                        0                0   \n",
       "38494                  0                        0                0   \n",
       "38495                  0                        0                0   \n",
       "38496                  0                        0                0   \n",
       "38497                  0                        0                0   \n",
       "\n",
       "       laundry in bldg  ...  condo  cottage/cabin  duplex  flat  house  \\\n",
       "0                    0  ...      0              0       0     0      0   \n",
       "1                    0  ...      0              0       0     0      0   \n",
       "2                    0  ...      0              0       0     0      0   \n",
       "3                    0  ...      0              0       0     0      0   \n",
       "4                    0  ...      0              0       0     0      0   \n",
       "...                ...  ...    ...            ...     ...   ...    ...   \n",
       "38493                0  ...      0              0       0     0      0   \n",
       "38494                0  ...      0              0       0     0      0   \n",
       "38495                0  ...      0              0       0     0      0   \n",
       "38496                0  ...      0              0       0     0      1   \n",
       "38497                0  ...      0              0       0     0      0   \n",
       "\n",
       "       in-law  loft  manufactured  townhouse  pred  \n",
       "0           0     0             1          0     0  \n",
       "1           0     0             0          0     0  \n",
       "2           0     0             0          0     0  \n",
       "3           0     0             0          0     0  \n",
       "4           0     0             0          0     0  \n",
       "...       ...   ...           ...        ...   ...  \n",
       "38493       0     0             0          0     0  \n",
       "38494       0     0             0          0     0  \n",
       "38495       0     0             0          0     0  \n",
       "38496       0     0             0          0     0  \n",
       "38497       0     0             0          0     0  \n",
       "\n",
       "[24913 rows x 32 columns]"
      ]
     },
     "execution_count": 45,
     "metadata": {},
     "output_type": "execute_result"
    }
   ],
   "source": [
    "df_filtered['pred'] = clusters\n",
    "cluster_mapping = {0: 0, 1: 1, 2: 2} \n",
    "df_filtered['pred'] = df_filtered['pred'].map(cluster_mapping)\n",
    "df_filtered"
   ]
  },
  {
   "attachments": {},
   "cell_type": "markdown",
   "metadata": {},
   "source": [
    " ## Calculo el silhouette score"
   ]
  },
  {
   "cell_type": "code",
   "execution_count": 46,
   "metadata": {},
   "outputs": [
    {
     "name": "stdout",
     "output_type": "stream",
     "text": [
      "Silhouette Score: 0.658\n"
     ]
    }
   ],
   "source": [
    "df_test_original = df_filtered.drop(columns=['pred'])            #calculo el silhouette score\n",
    "labels = kmeans.predict(df_test_original)\n",
    "score = silhouette_score(df_test_original, labels)\n",
    "print(\"Silhouette Score: {:.3f}\".format(score))"
   ]
  },
  {
   "attachments": {},
   "cell_type": "markdown",
   "metadata": {},
   "source": [
    "## Transformo la columna pred como csv"
   ]
  },
  {
   "cell_type": "code",
   "execution_count": 48,
   "metadata": {},
   "outputs": [],
   "source": [
    "df_filtered[[\"pred\"]].to_csv(\"juangarciare.csv\", index=False)"
   ]
  },
  {
   "attachments": {},
   "cell_type": "markdown",
   "metadata": {},
   "source": [
    "## Verifico que el csv este cargado correctamente"
   ]
  },
  {
   "cell_type": "code",
   "execution_count": 10,
   "metadata": {},
   "outputs": [
    {
     "data": {
      "text/html": [
       "<div>\n",
       "<style scoped>\n",
       "    .dataframe tbody tr th:only-of-type {\n",
       "        vertical-align: middle;\n",
       "    }\n",
       "\n",
       "    .dataframe tbody tr th {\n",
       "        vertical-align: top;\n",
       "    }\n",
       "\n",
       "    .dataframe thead th {\n",
       "        text-align: right;\n",
       "    }\n",
       "</style>\n",
       "<table border=\"1\" class=\"dataframe\">\n",
       "  <thead>\n",
       "    <tr style=\"text-align: right;\">\n",
       "      <th></th>\n",
       "      <th>pred</th>\n",
       "    </tr>\n",
       "  </thead>\n",
       "  <tbody>\n",
       "    <tr>\n",
       "      <th>0</th>\n",
       "      <td>1</td>\n",
       "    </tr>\n",
       "    <tr>\n",
       "      <th>1</th>\n",
       "      <td>0</td>\n",
       "    </tr>\n",
       "    <tr>\n",
       "      <th>2</th>\n",
       "      <td>0</td>\n",
       "    </tr>\n",
       "    <tr>\n",
       "      <th>3</th>\n",
       "      <td>1</td>\n",
       "    </tr>\n",
       "    <tr>\n",
       "      <th>4</th>\n",
       "      <td>0</td>\n",
       "    </tr>\n",
       "    <tr>\n",
       "      <th>...</th>\n",
       "      <td>...</td>\n",
       "    </tr>\n",
       "    <tr>\n",
       "      <th>38493</th>\n",
       "      <td>0</td>\n",
       "    </tr>\n",
       "    <tr>\n",
       "      <th>38494</th>\n",
       "      <td>0</td>\n",
       "    </tr>\n",
       "    <tr>\n",
       "      <th>38495</th>\n",
       "      <td>0</td>\n",
       "    </tr>\n",
       "    <tr>\n",
       "      <th>38496</th>\n",
       "      <td>1</td>\n",
       "    </tr>\n",
       "    <tr>\n",
       "      <th>38497</th>\n",
       "      <td>0</td>\n",
       "    </tr>\n",
       "  </tbody>\n",
       "</table>\n",
       "<p>38498 rows × 1 columns</p>\n",
       "</div>"
      ],
      "text/plain": [
       "       pred\n",
       "0         1\n",
       "1         0\n",
       "2         0\n",
       "3         1\n",
       "4         0\n",
       "...     ...\n",
       "38493     0\n",
       "38494     0\n",
       "38495     0\n",
       "38496     1\n",
       "38497     0\n",
       "\n",
       "[38498 rows x 1 columns]"
      ]
     },
     "execution_count": 10,
     "metadata": {},
     "output_type": "execute_result"
    }
   ],
   "source": [
    "final=pd.read_csv('juangarciare.csv')\n",
    "final"
   ]
  }
 ],
 "metadata": {
  "kernelspec": {
   "display_name": "Python 3",
   "language": "python",
   "name": "python3"
  },
  "language_info": {
   "codemirror_mode": {
    "name": "ipython",
    "version": 3
   },
   "file_extension": ".py",
   "mimetype": "text/x-python",
   "name": "python",
   "nbconvert_exporter": "python",
   "pygments_lexer": "ipython3",
   "version": "3.11.1"
  },
  "orig_nbformat": 4,
  "vscode": {
   "interpreter": {
    "hash": "5238573367df39f7286bb46f9ff5f08f63a01a80960060ce41e3c79b190280fa"
   }
  }
 },
 "nbformat": 4,
 "nbformat_minor": 2
}
